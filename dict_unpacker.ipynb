{
 "cells": [
  {
   "cell_type": "code",
   "execution_count": 61,
   "metadata": {},
   "outputs": [],
   "source": [
    "mydict = {1:'apple',2:{'alpha':'cat','omega':'sat','disco':{'boo':'discoball','ahh':'discoteque'}},3:'bananas'}"
   ]
  },
  {
   "cell_type": "code",
   "execution_count": 63,
   "metadata": {},
   "outputs": [],
   "source": [
    "def burrower(dictionary):\n",
    "    \n",
    "    '''\n",
    "    Unpacks a nested dictionary into it's most granular key/value pairs. This is a recursive function.\n",
    "    Takes one argument:\n",
    "    \n",
    "    dictionary: the dictionary to unpack\n",
    "    \n",
    "    '''\n",
    "    \n",
    "    new_dict = {}\n",
    "    \n",
    "    for key in dictionary: # checkout key in dictionary\n",
    "        if type(dictionary[key]) == type(dict()): \n",
    "            \n",
    "            burrowed_dict = burrower(dictionary[key]) # if the key is a dictionary, call burrower again\n",
    "                        \n",
    "            for subkey in burrowed_dict:\n",
    "                \n",
    "                if type(burrowed_dict[subkey]) == type(dict()):\n",
    "                    burrower(burrowed_dict)\n",
    "                else:\n",
    "                    new_dict[subkey] = burrowed_dict[subkey]\n",
    "        else:\n",
    "            new_dict[key] = dictionary[key] # once at bottom level of dictionary, start adding key/values to new dict\n",
    "    \n",
    "    return new_dict"
   ]
  },
  {
   "cell_type": "code",
   "execution_count": 64,
   "metadata": {},
   "outputs": [],
   "source": [
    "a = burrower(mydict)"
   ]
  }
 ],
 "metadata": {
  "kernelspec": {
   "display_name": "Python 3",
   "language": "python",
   "name": "python3"
  },
  "language_info": {
   "codemirror_mode": {
    "name": "ipython",
    "version": 3
   },
   "file_extension": ".py",
   "mimetype": "text/x-python",
   "name": "python",
   "nbconvert_exporter": "python",
   "pygments_lexer": "ipython3",
   "version": "3.7.1"
  }
 },
 "nbformat": 4,
 "nbformat_minor": 2
}
