{
 "cells": [
  {
   "cell_type": "code",
   "execution_count": 1,
   "metadata": {},
   "outputs": [],
   "source": [
    "import pandas as pd\n",
    "from numpy import nan "
   ]
  },
  {
   "cell_type": "code",
   "execution_count": 23,
   "metadata": {},
   "outputs": [],
   "source": [
    "df1 = pd.DataFrame(data={\n",
    "    'segmenter':[nan,'alpha','alpha','alpha','alpha','omega','omega','omega','omega','omega'],\n",
    "                         'lookup1':[nan,nan,'c','d','e','a',nan,'c','d','e'],\n",
    "                         'lookup2':[nan,nan,'banana','pear','pineapple','apple',nan,'banana','pear','pineapple'],\n",
    "                         'custs':[1,2,3,4,5,1,2,3,4,5]})\n",
    "df2 = pd.DataFrame(data={'lookup1':['a',nan,'i','o','e'],'lookup2':['apple',nan,'hyena','pear','pineapple'],\n",
    "                         'custs':[2,4,6,8,10]})"
   ]
  },
  {
   "cell_type": "code",
   "execution_count": 10,
   "metadata": {},
   "outputs": [],
   "source": [
    "def divider(df, segmenter):\n",
    "\n",
    "    \"\"\"\n",
    "    Divides the last column of a row in a df by the sum of all the other rows that have the same combination of NaN/not NaN\n",
    "    in their other columns. This is designed for profiling - if you have two columns, one showing one profile, and one\n",
    "    showing another, rows will only be divided by the other relevant rows\n",
    "    \"\"\"\n",
    "        \n",
    "    columns = list(df.columns)[:-1]\n",
    "    \n",
    "    df.dropna(axis = 0, how = 'all', subset = columns, inplace = True)\n",
    "    \n",
    "    out_df = pd.DataFrame()\n",
    "    \n",
    "    if segmenter: # if this table is duplicated over different segments, we need to calculate %s within segment\n",
    "    \n",
    "        for segment in df[columns[0]].unique():\n",
    "            \n",
    "            for column in columns[1:]:\n",
    "\n",
    "                    temp_df = df[(df[column].isnull() == False) & (df[columns[0]] == segment)].copy()\n",
    "                    temp_df['per'] = temp_df.iloc[:,-1] / temp_df.iloc[:,-1].sum()\n",
    "\n",
    "                    out_df = out_df.append(temp_df, ignore_index = True)\n",
    "                    \n",
    "    else:\n",
    "        \n",
    "        for column in columns:\n",
    "\n",
    "            temp_df = df[df[column].isnull() == False].copy()\n",
    "            temp_df['per'] = temp_df.iloc[:,-1] / temp_df.iloc[:,-1].sum()\n",
    "\n",
    "            out_df = out_df.append(temp_df, ignore_index = True)\n",
    "        \n",
    "    return out_df"
   ]
  },
  {
   "cell_type": "code",
   "execution_count": 75,
   "metadata": {},
   "outputs": [],
   "source": [
    "# identifies the number of columns in the dataframe, ignoring the first one if the argument 'segmenter' is true\n",
    "def indexer(df1,df2,segmenter=False, use_divider = True):\n",
    "    '''\n",
    "    divides the values in the last column of df1 by the values in the last column in df2, joining on all the other columns in \n",
    "    the table (nulls will be joined to nulls). All columns need to match to calculate the index, otherwise NaN is returned\n",
    "    \n",
    "    Arguments:\n",
    "        df1 - the numerator table for your index calculation.\n",
    "        df2 - the denominator table for your index calculation.\n",
    "        segmenter - indicates whether the first column is showing levels in a segmentation, and therefore whether\n",
    "                    the first column should be included when looking for what to join on.\n",
    "        use_divider - whether to call the divider function to get row %s, or not - if you already have them.\n",
    "    '''\n",
    "    \n",
    "    if use_divider:\n",
    "        \n",
    "        numerator = divider(df1, segmenter)\n",
    "        denominator = divider(df2, False)\n",
    "                              \n",
    "    else:\n",
    "        numerator = df1.copy()\n",
    "        denominator = df2.copy()\n",
    "                     \n",
    "    # joins two dfs together - now the last two columns will be the columns to be divided\n",
    "    if segmenter:\n",
    "        column_list = list(df1.columns[1:-1])\n",
    "        result_df = numerator.merge(denominator, how='left', left_on = column_list, right_on = column_list)\n",
    "    else:\n",
    "        column_list = list(df1.columns[:-1])\n",
    "        result_df = numerator.merge(denominator,how='left',left_on = column_list, right_on = column_list)\n",
    "                \n",
    "    # calculates index by dividing the second last column by the last column\n",
    "    result_df['index'] = result_df[result_df.columns[-3]]/result_df[result_df.columns[-1]]\n",
    "    \n",
    "    # retains just the columns we're interested in\n",
    "    if segmenter:\n",
    "        column_list.insert(0,df1.columns[0])\n",
    "    column_list.append('index')\n",
    "\n",
    "    result_df = result_df[[i for i in column_list]]\n",
    "    \n",
    "    return result_df"
   ]
  }
 ],
 "metadata": {
  "kernelspec": {
   "display_name": "Python 3",
   "language": "python",
   "name": "python3"
  },
  "language_info": {
   "codemirror_mode": {
    "name": "ipython",
    "version": 3
   },
   "file_extension": ".py",
   "mimetype": "text/x-python",
   "name": "python",
   "nbconvert_exporter": "python",
   "pygments_lexer": "ipython3",
   "version": "3.7.1"
  }
 },
 "nbformat": 4,
 "nbformat_minor": 2
}
