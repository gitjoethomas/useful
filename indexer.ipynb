{
 "cells": [
  {
   "cell_type": "code",
   "execution_count": 1,
   "metadata": {},
   "outputs": [],
   "source": [
    "import pandas as pd\n",
    "import numpy as np"
   ]
  },
  {
   "cell_type": "code",
   "execution_count": 5,
   "metadata": {},
   "outputs": [],
   "source": [
    "df1 = pd.DataFrame(data={'segmenter':['alpha','alpha','alpha','alpha','alpha','omega','omega','omega','omega','omega'],\n",
    "                         'lookup1':['a',np.nan,'c','d','e','a',np.nan,'c','d','e'],\n",
    "                         'lookup2':['apple',np.nan,'banana','pear','pineapple','apple',np.nan,'banana','pear','pineapple'],\n",
    "                         'custs':[1,2,3,4,5,1,2,3,4,5]})\n",
    "df2 = pd.DataFrame(data={'lookup1':['a',np.nan,'i','o','u'],'lookup2':['apple',np.nan,'hyena','pear','pineapple'],\n",
    "                         'custs':[2,4,6,8,10]})"
   ]
  },
  {
   "cell_type": "code",
   "execution_count": 51,
   "metadata": {},
   "outputs": [],
   "source": [
    "def divider(df1, column_list, segmenter):\n",
    "\n",
    "    \"\"\"\n",
    "    Divides the last column of a row in a df by the sum of all the other rows that have the same combination of NaN/not NaN\n",
    "    in their other columns. This is designed for profiling - if you have two columns, one showing one profile, and one\n",
    "    showing another, rows will only be divided by the other relevant rows\n",
    "    \"\"\"\n",
    "    \n",
    "    # replaces missing values\n",
    "    df1.replace(to_replace=np.nan,value='missing value',inplace=True)\n",
    "    df_check = pd.DataFrame(columns=column_list)\n",
    "    \n",
    "    # generates boolean list of true/false for row's values - later we will divide each row's last column by the sum\n",
    "        # of all the other columns that have their same true/false list\n",
    "    for row in df1[column_list].itertuples(index=False):\n",
    "        \n",
    "        blank_check = pd.Series([i == \"missing value\" for i in list(row)],index = column_list)\n",
    "        \n",
    "        # appends this list into df, so you have two dfs - one indicating whether the other has NaNs\n",
    "        df_check = df_check.append(blank_check,ignore_index=True)\n",
    "    \n",
    "    # changes the missing values back to NaN\n",
    "    df1.replace(to_replace='missing value',value=np.nan,inplace=True)\n",
    "\n",
    "    #################################\n",
    "    \n",
    "    # for a row, generates a list of all the indices from df_check that have the same true/false booleans\n",
    "    \n",
    "    matching_indices = []\n",
    "    \n",
    "    for row in df_check.iterrows():\n",
    "    \n",
    "        index = row[0]\n",
    "        row = row[1]\n",
    "        \n",
    "        matching_indices.append([i[0] for i in df_check.iterrows() if i[1].all() == row.all()])\n",
    "    \n",
    "#     divides the value in the last column for that row by the sum of all the columns that have the same null/not null\n",
    "#     truthfulness\n",
    "\n",
    "    df_out = pd.DataFrame(columns = column_list)\n",
    "    \n",
    "    for row in df1.iterrows():\n",
    "        \n",
    "        index = row[0]\n",
    "        row = row[1]    \n",
    "        \n",
    "        row['%'] = row['custs'] / df1.iloc[matching_indices[index]]['custs'].sum()\n",
    "        \n",
    "        df_out = df_out.append(row)\n",
    "        \n",
    "        # reorders to put the % value as last\n",
    "        df_out = df_out[[col for col in df_out if col != '%']+['%']]\n",
    "        \n",
    "    return df_out"
   ]
  },
  {
   "cell_type": "code",
   "execution_count": 52,
   "metadata": {},
   "outputs": [
    {
     "ename": "TypeError",
     "evalue": "'bool' object is not subscriptable",
     "output_type": "error",
     "traceback": [
      "\u001b[1;31m---------------------------------------------------------------------------\u001b[0m",
      "\u001b[1;31mTypeError\u001b[0m                                 Traceback (most recent call last)",
      "\u001b[1;32m<ipython-input-52-3d4405d317ba>\u001b[0m in \u001b[0;36m<module>\u001b[1;34m()\u001b[0m\n\u001b[1;32m----> 1\u001b[1;33m \u001b[0mtest\u001b[0m \u001b[1;33m=\u001b[0m \u001b[0mdivider\u001b[0m\u001b[1;33m(\u001b[0m\u001b[0mdf1\u001b[0m\u001b[1;33m,\u001b[0m\u001b[0mdf1\u001b[0m\u001b[1;33m.\u001b[0m\u001b[0mcolumns\u001b[0m\u001b[1;33m[\u001b[0m\u001b[1;33m:\u001b[0m\u001b[1;33m-\u001b[0m\u001b[1;36m1\u001b[0m\u001b[1;33m]\u001b[0m\u001b[1;33m,\u001b[0m\u001b[0msegmenter\u001b[0m \u001b[1;33m=\u001b[0m \u001b[1;32mTrue\u001b[0m\u001b[1;33m)\u001b[0m\u001b[1;33m\u001b[0m\u001b[0m\n\u001b[0m",
      "\u001b[1;32m<ipython-input-51-064993269510>\u001b[0m in \u001b[0;36mdivider\u001b[1;34m(df1, column_list, segmenter)\u001b[0m\n\u001b[0;32m     35\u001b[0m \u001b[1;33m\u001b[0m\u001b[0m\n\u001b[0;32m     36\u001b[0m         \u001b[1;32mif\u001b[0m \u001b[0msegmenter\u001b[0m\u001b[1;33m:\u001b[0m\u001b[1;33m\u001b[0m\u001b[0m\n\u001b[1;32m---> 37\u001b[1;33m             \u001b[0mmatching_indices\u001b[0m\u001b[1;33m.\u001b[0m\u001b[0mappend\u001b[0m\u001b[1;33m(\u001b[0m\u001b[1;33m[\u001b[0m\u001b[0mi\u001b[0m\u001b[1;33m[\u001b[0m\u001b[1;36m0\u001b[0m\u001b[1;33m]\u001b[0m \u001b[1;32mfor\u001b[0m \u001b[0mi\u001b[0m \u001b[1;32min\u001b[0m \u001b[0mdf_check\u001b[0m\u001b[1;33m.\u001b[0m\u001b[0miterrows\u001b[0m\u001b[1;33m(\u001b[0m\u001b[1;33m)\u001b[0m \u001b[1;32mif\u001b[0m \u001b[0mi\u001b[0m\u001b[1;33m[\u001b[0m\u001b[1;36m1\u001b[0m\u001b[1;33m]\u001b[0m\u001b[1;33m.\u001b[0m\u001b[0mall\u001b[0m\u001b[1;33m(\u001b[0m\u001b[1;33m)\u001b[0m \u001b[1;33m==\u001b[0m \u001b[0mrow\u001b[0m\u001b[1;33m.\u001b[0m\u001b[0mall\u001b[0m\u001b[1;33m(\u001b[0m\u001b[1;33m)\u001b[0m \u001b[1;33m&\u001b[0m \u001b[0mi\u001b[0m\u001b[1;33m[\u001b[0m\u001b[1;36m1\u001b[0m\u001b[1;33m]\u001b[0m\u001b[1;33m[\u001b[0m\u001b[1;36m0\u001b[0m\u001b[1;33m]\u001b[0m \u001b[1;33m==\u001b[0m \u001b[0mrow\u001b[0m\u001b[1;33m[\u001b[0m\u001b[1;36m1\u001b[0m\u001b[1;33m]\u001b[0m\u001b[1;33m[\u001b[0m\u001b[1;36m0\u001b[0m\u001b[1;33m]\u001b[0m\u001b[1;33m]\u001b[0m\u001b[1;33m)\u001b[0m\u001b[1;33m\u001b[0m\u001b[0m\n\u001b[0m\u001b[0;32m     38\u001b[0m         \u001b[1;32melse\u001b[0m\u001b[1;33m:\u001b[0m\u001b[1;33m\u001b[0m\u001b[0m\n\u001b[0;32m     39\u001b[0m             \u001b[0mmatching_indices\u001b[0m\u001b[1;33m.\u001b[0m\u001b[0mappend\u001b[0m\u001b[1;33m(\u001b[0m\u001b[1;33m[\u001b[0m\u001b[0mi\u001b[0m\u001b[1;33m[\u001b[0m\u001b[1;36m0\u001b[0m\u001b[1;33m]\u001b[0m \u001b[1;32mfor\u001b[0m \u001b[0mi\u001b[0m \u001b[1;32min\u001b[0m \u001b[0mdf_check\u001b[0m\u001b[1;33m.\u001b[0m\u001b[0miterrows\u001b[0m\u001b[1;33m(\u001b[0m\u001b[1;33m)\u001b[0m \u001b[1;32mif\u001b[0m \u001b[0mi\u001b[0m\u001b[1;33m[\u001b[0m\u001b[1;36m1\u001b[0m\u001b[1;33m]\u001b[0m\u001b[1;33m.\u001b[0m\u001b[0mall\u001b[0m\u001b[1;33m(\u001b[0m\u001b[1;33m)\u001b[0m \u001b[1;33m==\u001b[0m \u001b[0mrow\u001b[0m\u001b[1;33m.\u001b[0m\u001b[0mall\u001b[0m\u001b[1;33m(\u001b[0m\u001b[1;33m)\u001b[0m\u001b[1;33m]\u001b[0m\u001b[1;33m)\u001b[0m\u001b[1;33m\u001b[0m\u001b[0m\n",
      "\u001b[1;32m<ipython-input-51-064993269510>\u001b[0m in \u001b[0;36m<listcomp>\u001b[1;34m(.0)\u001b[0m\n\u001b[0;32m     35\u001b[0m \u001b[1;33m\u001b[0m\u001b[0m\n\u001b[0;32m     36\u001b[0m         \u001b[1;32mif\u001b[0m \u001b[0msegmenter\u001b[0m\u001b[1;33m:\u001b[0m\u001b[1;33m\u001b[0m\u001b[0m\n\u001b[1;32m---> 37\u001b[1;33m             \u001b[0mmatching_indices\u001b[0m\u001b[1;33m.\u001b[0m\u001b[0mappend\u001b[0m\u001b[1;33m(\u001b[0m\u001b[1;33m[\u001b[0m\u001b[0mi\u001b[0m\u001b[1;33m[\u001b[0m\u001b[1;36m0\u001b[0m\u001b[1;33m]\u001b[0m \u001b[1;32mfor\u001b[0m \u001b[0mi\u001b[0m \u001b[1;32min\u001b[0m \u001b[0mdf_check\u001b[0m\u001b[1;33m.\u001b[0m\u001b[0miterrows\u001b[0m\u001b[1;33m(\u001b[0m\u001b[1;33m)\u001b[0m \u001b[1;32mif\u001b[0m \u001b[0mi\u001b[0m\u001b[1;33m[\u001b[0m\u001b[1;36m1\u001b[0m\u001b[1;33m]\u001b[0m\u001b[1;33m.\u001b[0m\u001b[0mall\u001b[0m\u001b[1;33m(\u001b[0m\u001b[1;33m)\u001b[0m \u001b[1;33m==\u001b[0m \u001b[0mrow\u001b[0m\u001b[1;33m.\u001b[0m\u001b[0mall\u001b[0m\u001b[1;33m(\u001b[0m\u001b[1;33m)\u001b[0m \u001b[1;33m&\u001b[0m \u001b[0mi\u001b[0m\u001b[1;33m[\u001b[0m\u001b[1;36m1\u001b[0m\u001b[1;33m]\u001b[0m\u001b[1;33m[\u001b[0m\u001b[1;36m0\u001b[0m\u001b[1;33m]\u001b[0m \u001b[1;33m==\u001b[0m \u001b[0mrow\u001b[0m\u001b[1;33m[\u001b[0m\u001b[1;36m1\u001b[0m\u001b[1;33m]\u001b[0m\u001b[1;33m[\u001b[0m\u001b[1;36m0\u001b[0m\u001b[1;33m]\u001b[0m\u001b[1;33m]\u001b[0m\u001b[1;33m)\u001b[0m\u001b[1;33m\u001b[0m\u001b[0m\n\u001b[0m\u001b[0;32m     38\u001b[0m         \u001b[1;32melse\u001b[0m\u001b[1;33m:\u001b[0m\u001b[1;33m\u001b[0m\u001b[0m\n\u001b[0;32m     39\u001b[0m             \u001b[0mmatching_indices\u001b[0m\u001b[1;33m.\u001b[0m\u001b[0mappend\u001b[0m\u001b[1;33m(\u001b[0m\u001b[1;33m[\u001b[0m\u001b[0mi\u001b[0m\u001b[1;33m[\u001b[0m\u001b[1;36m0\u001b[0m\u001b[1;33m]\u001b[0m \u001b[1;32mfor\u001b[0m \u001b[0mi\u001b[0m \u001b[1;32min\u001b[0m \u001b[0mdf_check\u001b[0m\u001b[1;33m.\u001b[0m\u001b[0miterrows\u001b[0m\u001b[1;33m(\u001b[0m\u001b[1;33m)\u001b[0m \u001b[1;32mif\u001b[0m \u001b[0mi\u001b[0m\u001b[1;33m[\u001b[0m\u001b[1;36m1\u001b[0m\u001b[1;33m]\u001b[0m\u001b[1;33m.\u001b[0m\u001b[0mall\u001b[0m\u001b[1;33m(\u001b[0m\u001b[1;33m)\u001b[0m \u001b[1;33m==\u001b[0m \u001b[0mrow\u001b[0m\u001b[1;33m.\u001b[0m\u001b[0mall\u001b[0m\u001b[1;33m(\u001b[0m\u001b[1;33m)\u001b[0m\u001b[1;33m]\u001b[0m\u001b[1;33m)\u001b[0m\u001b[1;33m\u001b[0m\u001b[0m\n",
      "\u001b[1;31mTypeError\u001b[0m: 'bool' object is not subscriptable"
     ]
    }
   ],
   "source": [
    "test = divider(df1,df1.columns[:-1],segmenter = True)"
   ]
  },
  {
   "cell_type": "code",
   "execution_count": 48,
   "metadata": {},
   "outputs": [],
   "source": [
    "# identifies the number of columns in the dataframe, ignoring the first one if the argument 'segmenter' is true\n",
    "def indexer(df1,df2,segmenter=False):\n",
    "    '''\n",
    "    divides the values in the last column of df1 by the values in the last column in df2, joining on all the other columns in \n",
    "    the table (nulls will be joined to nulls). All columns need to match to calculate the index, otherwise NaN is returned\n",
    "    \n",
    "    Arguments:\n",
    "        df1 - the numerator table for your index calculation.\n",
    "        df2 - the denominator table for your index calculation.\n",
    "        segmenter - indicates whether the first column is showing levels in a segmentation, and therefore whether\n",
    "                    the first column should be included when looking for what to join on.\n",
    "    '''\n",
    "    #creates the list of columns that the dfs will be joined on   \n",
    "    column_list = list(df1.columns)[:-1]\n",
    "\n",
    "    df1 = divider(df1, column_list, segmenter)\n",
    "    \n",
    "    if segmenter:\n",
    "        df2 = divider(df2, column_list[1:], segmenter = False)\n",
    "    else:\n",
    "        df2 = divider(df2, column_list, segmenter)\n",
    "    \n",
    "    # joins two dfs together - now the last two columns will be the columns to be divided\n",
    "    if segmenter:\n",
    "        result_df = df1.merge(df2,how='left',left_on = column_list[1:], right_on = column_list[1:])\n",
    "    else:\n",
    "        result_df = df1.merge(df2,how='left',left_on = column_list, right_on = column_list)\n",
    "    \n",
    "    # calculates index by dividing the second last column by the last column\n",
    "    result_df['index'] = result_df[result_df.columns[-1]]/result_df[result_df.columns[-3]]\n",
    "        \n",
    "    # retains just the columns we're interested in\n",
    "    column_list.append('index')\n",
    "    result_df = result_df[[i for i in column_list]]\n",
    "    \n",
    "    return result_df"
   ]
  }
 ],
 "metadata": {
  "kernelspec": {
   "display_name": "Python 3",
   "language": "python",
   "name": "python3"
  },
  "language_info": {
   "codemirror_mode": {
    "name": "ipython",
    "version": 3
   },
   "file_extension": ".py",
   "mimetype": "text/x-python",
   "name": "python",
   "nbconvert_exporter": "python",
   "pygments_lexer": "ipython3",
   "version": "3.6.5"
  }
 },
 "nbformat": 4,
 "nbformat_minor": 2
}
